{
 "cells": [
  {
   "cell_type": "code",
   "execution_count": 42,
   "id": "86f41eeb-fd21-4a65-8eda-b9de09b88f3e",
   "metadata": {},
   "outputs": [],
   "source": [
    "import pandas as pd\n",
    "import numpy as np\n",
    "import matplotlib.pyplot as plt\n",
    "import seaborn as sns\n",
    "from sklearn.model_selection import train_test_split\n",
    "from sklearn.preprocessing import OneHotEncoder, StandardScaler\n",
    "from sklearn.compose import ColumnTransformer\n",
    "from sklearn.pipeline import Pipeline\n",
    "from sklearn.linear_model import LinearRegression\n",
    "from sklearn.ensemble import RandomForestRegressor\n",
    "from sklearn.metrics import mean_absolute_error, r2_score\n",
    "from sklearn.metrics import r2_score, mean_squared_error\n"
   ]
  },
  {
   "cell_type": "code",
   "execution_count": 44,
   "id": "b93d2b7f-9c43-4a27-8ece-c3dc791011d6",
   "metadata": {},
   "outputs": [
    {
     "name": "stdout",
     "output_type": "stream",
     "text": [
      "  City/District Waste_Type  Waste_Generated(Tons/Day)  Recycling_Rate(%)  \\\n",
      "0        Mumbai    Plastic                       6610                 68   \n",
      "1        Mumbai    Plastic                       7456                 73   \n",
      "2        Mumbai    Plastic                       6932                 81   \n",
      "3        Mumbai    Plastic                       2501                 41   \n",
      "4        Mumbai    Plastic                       6569                 48   \n",
      "\n",
      "   Population_Density(People/km²)  Municipal_Efficiency_Score(1-10)  \\\n",
      "0                           11191                                 9   \n",
      "1                           11191                                 9   \n",
      "2                           11191                                10   \n",
      "3                           11191                                 9   \n",
      "4                           11191                                 5   \n",
      "\n",
      "  Disposal_Method  Cost_of_Waste_Management(₹/Ton)  Awareness_Campaigns_Count  \\\n",
      "0      Composting                             3056                         14   \n",
      "1        Landfill                             3195                          6   \n",
      "2    Incineration                             2543                         16   \n",
      "3       Recycling                             1194                          4   \n",
      "4        Landfill                             4287                         16   \n",
      "\n",
      "     Landfill_Name Landfill_Location(Lat, Long)  Landfill_Capacity(Tons)  Year  \n",
      "0  Mumbai Landfill             22.4265, 77.4931                    45575  2019  \n",
      "1  Mumbai Landfill             22.4265, 77.4931                    45575  2020  \n",
      "2  Mumbai Landfill             22.4265, 77.4931                    45575  2021  \n",
      "3  Mumbai Landfill             22.4265, 77.4931                    45575  2022  \n",
      "4  Mumbai Landfill             22.4265, 77.4931                    45575  2023  \n"
     ]
    }
   ],
   "source": [
    "df=pd.read_excel('waste_management_India_clean.xlsx')\n",
    "print(df.head())"
   ]
  },
  {
   "cell_type": "code",
   "execution_count": 46,
   "id": "213a5c4a-c2ef-47cd-aee8-49ebbbfbf0c3",
   "metadata": {},
   "outputs": [
    {
     "name": "stdout",
     "output_type": "stream",
     "text": [
      "<class 'pandas.core.frame.DataFrame'>\n",
      "RangeIndex: 850 entries, 0 to 849\n",
      "Data columns (total 13 columns):\n",
      " #   Column                            Non-Null Count  Dtype \n",
      "---  ------                            --------------  ----- \n",
      " 0   City/District                     850 non-null    object\n",
      " 1   Waste_Type                        850 non-null    object\n",
      " 2   Waste_Generated(Tons/Day)         850 non-null    int64 \n",
      " 3   Recycling_Rate(%)                 850 non-null    int64 \n",
      " 4   Population_Density(People/km²)    850 non-null    int64 \n",
      " 5   Municipal_Efficiency_Score(1-10)  850 non-null    int64 \n",
      " 6   Disposal_Method                   850 non-null    object\n",
      " 7   Cost_of_Waste_Management(₹/Ton)   850 non-null    int64 \n",
      " 8   Awareness_Campaigns_Count         850 non-null    int64 \n",
      " 9   Landfill_Name                     850 non-null    object\n",
      " 10  Landfill_Location(Lat, Long)      850 non-null    object\n",
      " 11  Landfill_Capacity(Tons)           850 non-null    int64 \n",
      " 12  Year                              850 non-null    int64 \n",
      "dtypes: int64(8), object(5)\n",
      "memory usage: 86.5+ KB\n",
      "None\n"
     ]
    }
   ],
   "source": [
    "print(df.info())"
   ]
  },
  {
   "cell_type": "code",
   "execution_count": 50,
   "id": "26dbe9ae-5552-4011-a25d-a7732ebd0599",
   "metadata": {},
   "outputs": [
    {
     "name": "stdout",
     "output_type": "stream",
     "text": [
      "850\n",
      "    City/District Waste_Type  Waste_Generated(Tons/Day)  Recycling_Rate(%)  \\\n",
      "0          Mumbai    Plastic                       6610                 68   \n",
      "1          Mumbai    Plastic                       7456                 73   \n",
      "2          Mumbai    Plastic                       6932                 81   \n",
      "3          Mumbai    Plastic                       2501                 41   \n",
      "4          Mumbai    Plastic                       6569                 48   \n",
      "..            ...        ...                        ...                ...   \n",
      "845       Gwalior  Hazardous                       3629                 34   \n",
      "846       Gwalior  Hazardous                       1827                 49   \n",
      "847       Gwalior  Hazardous                       1014                 51   \n",
      "848       Gwalior  Hazardous                       4272                 41   \n",
      "849       Gwalior  Hazardous                       2480                 58   \n",
      "\n",
      "     Population_Density(People/km²)  Municipal_Efficiency_Score(1-10)  \\\n",
      "0                             11191                                 9   \n",
      "1                             11191                                 9   \n",
      "2                             11191                                10   \n",
      "3                             11191                                 9   \n",
      "4                             11191                                 5   \n",
      "..                              ...                               ...   \n",
      "845                           11280                                 8   \n",
      "846                           11280                                 7   \n",
      "847                           11280                                 9   \n",
      "848                           11280                                 6   \n",
      "849                           11280                                 6   \n",
      "\n",
      "    Disposal_Method  Cost_of_Waste_Management(₹/Ton)  \\\n",
      "0        Composting                             3056   \n",
      "1          Landfill                             3195   \n",
      "2      Incineration                             2543   \n",
      "3         Recycling                             1194   \n",
      "4          Landfill                             4287   \n",
      "..              ...                              ...   \n",
      "845    Incineration                             4718   \n",
      "846    Incineration                             1661   \n",
      "847       Recycling                             1873   \n",
      "848    Incineration                             4123   \n",
      "849      Composting                             1081   \n",
      "\n",
      "     Awareness_Campaigns_Count     Landfill_Name Landfill_Location(Lat, Long)  \\\n",
      "0                           14   Mumbai Landfill             22.4265, 77.4931   \n",
      "1                            6   Mumbai Landfill             22.4265, 77.4931   \n",
      "2                           16   Mumbai Landfill             22.4265, 77.4931   \n",
      "3                            4   Mumbai Landfill             22.4265, 77.4931   \n",
      "4                           16   Mumbai Landfill             22.4265, 77.4931   \n",
      "..                         ...               ...                          ...   \n",
      "845                         14  Gwalior Landfill             10.9566, 91.6565   \n",
      "846                          9  Gwalior Landfill             10.9566, 91.6565   \n",
      "847                         10  Gwalior Landfill             10.9566, 91.6565   \n",
      "848                          9  Gwalior Landfill             10.9566, 91.6565   \n",
      "849                         19  Gwalior Landfill             10.9566, 91.6565   \n",
      "\n",
      "     Landfill_Capacity(Tons)  Year  \n",
      "0                      45575  2019  \n",
      "1                      45575  2020  \n",
      "2                      45575  2021  \n",
      "3                      45575  2022  \n",
      "4                      45575  2023  \n",
      "..                       ...   ...  \n",
      "845                    54460  2019  \n",
      "846                    54460  2020  \n",
      "847                    54460  2021  \n",
      "848                    54460  2022  \n",
      "849                    54460  2023  \n",
      "\n",
      "[850 rows x 13 columns]\n"
     ]
    }
   ],
   "source": [
    "df.dropna(inplace=True)\n",
    "df.drop_duplicates(inplace=True)\n",
    "df.isnull().sum()\n",
    "Q1=df['Recycling_Rate(%)'].quantile(0.25)\n",
    "Q3=df['Recycling_Rate(%)'].quantile(0.75)\n",
    "IQR=Q3-Q1\n",
    "lower_bound=Q1-1.5*IQR\n",
    "upper_bound=Q3+1.5*IQR\n",
    "outliers=(df['Recycling_Rate(%)']<lower_bound)|(df['Recycling_Rate(%)']>upper_bound)\n",
    "clean_waste_management=df.loc[~outliers].reset_index(drop=True)\n",
    "print(len(clean_waste_management))\n",
    "print(clean_waste_management)"
   ]
  },
  {
   "cell_type": "code",
   "execution_count": 52,
   "id": "ec5b8a38-756c-4b94-9848-6580b23c3081",
   "metadata": {},
   "outputs": [
    {
     "name": "stdout",
     "output_type": "stream",
     "text": [
      "City/District                       0\n",
      "Waste_Type                          0\n",
      "Waste_Generated(Tons/Day)           0\n",
      "Recycling_Rate(%)                   0\n",
      "Population_Density(People/km²)      0\n",
      "Municipal_Efficiency_Score(1-10)    0\n",
      "Disposal_Method                     0\n",
      "Cost_of_Waste_Management(₹/Ton)     0\n",
      "Awareness_Campaigns_Count           0\n",
      "Landfill_Name                       0\n",
      "Landfill_Location(Lat, Long)        0\n",
      "Landfill_Capacity(Tons)             0\n",
      "Year                                0\n",
      "dtype: int64\n"
     ]
    }
   ],
   "source": [
    "print(clean_waste_management.isnull().sum())"
   ]
  },
  {
   "cell_type": "code",
   "execution_count": 54,
   "id": "cdbc5ad0-7cef-4b21-94d0-e893aa0d01f7",
   "metadata": {},
   "outputs": [
    {
     "data": {
      "image/png": "[encoded data removed]",
      "text/plain": [
       "<Figure size 640x480 with 1 Axes>"
      ]
     },
     "metadata": {},
     "output_type": "display_data"
    }
   ],
   "source": [
    "sns.histplot(clean_waste_management['Recycling_Rate(%)'], kde=True)\n",
    "plt.show()"
   ]
  },
  {
   "cell_type": "code",
   "execution_count": 56,
   "id": "22a30fc3-f7b5-4fcf-84d5-0c512261b9a8",
   "metadata": {},
   "outputs": [
    {
     "name": "stdout",
     "output_type": "stream",
     "text": [
      "Mean Squared Error: 300.0441870588235\n",
      "R² Score: -0.08281746898034958\n"
     ]
    }
   ],
   "source": [
    "# Ensure column names are properly formatted\n",
    "df.columns = df.columns.str.strip()\n",
    "\n",
    "# Check for missing values and fill for numeric columns\n",
    "numeric_cols = df.select_dtypes(include=[np.number]).columns\n",
    "df[numeric_cols] = df[numeric_cols].fillna(df[numeric_cols].median())\n",
    "\n",
    "# Define the target variable and predictors\n",
    "target = \"Recycling_Rate(%)\"\n",
    "features = [\n",
    "    \"Waste_Generated(Tons/Day)\",\n",
    "    \"Population_Density(People/km²)\",\n",
    "    \"Municipal_Efficiency_Score(1-10)\",\n",
    "    \"Cost_of_Waste_Management(₹/Ton)\",\n",
    "    \"Awareness_Campaigns_Count\",\n",
    "    \"Landfill_Capacity(Tons)\",\n",
    "    \"Disposal_Method\",\n",
    "    \"Year\"\n",
    "]\n",
    "\n",
    "# Ensure 'Disposal_Method' exists in the DataFrame\n",
    "if \"Disposal_Method\" not in df.columns:\n",
    "    raise KeyError(\"'Disposal_Method' column is missing from the dataset!\")\n",
    "\n",
    "X = df[features]\n",
    "y = df[target]\n",
    "\n",
    "# Define categorical and numerical features\n",
    "categorical_features = [\"Disposal_Method\"]\n",
    "numeric_features = [col for col in features if col not in categorical_features]\n",
    "\n",
    "# Preprocessing pipeline\n",
    "preprocessor = ColumnTransformer(\n",
    "    transformers=[\n",
    "        ('num', 'passthrough', numeric_features),\n",
    "        ('cat', OneHotEncoder(handle_unknown='ignore'), categorical_features)\n",
    "    ]\n",
    ")\n",
    "\n",
    "# Define the machine learning pipeline\n",
    "pipeline = Pipeline([\n",
    "    ('preprocessor', preprocessor),\n",
    "    ('regressor', RandomForestRegressor(n_estimators=100, random_state=42))\n",
    "])\n",
    "\n",
    "# Split the dataset\n",
    "X_train, X_test, y_train, y_test = train_test_split(X, y, test_size=0.2, random_state=42)\n",
    "\n",
    "# Train the model\n",
    "pipeline.fit(X_train, y_train)\n",
    "\n",
    "# Make predictions\n",
    "y_pred = pipeline.predict(X_test)\n",
    "\n",
    "# Evaluate the model\n",
    "mse = mean_squared_error(y_test, y_pred)\n",
    "r2 = r2_score(y_test, y_pred)\n",
    "\n",
    "print(\"Mean Squared Error:\", mse)\n",
    "print(\"R² Score:\", r2)"
   ]
  },
  {
   "cell_type": "code",
   "execution_count": 58,
   "id": "30f30ff9-8a44-49b1-88d9-987456c6a9db",
   "metadata": {},
   "outputs": [
    {
     "data": {
      "text/plain": [
       "{'MAE': 14.52394535368786,\n",
       " 'MSE': 276.0650775182356,\n",
       " 'R2_Score': 0.0037197806016645574,\n",
       " 'Coefficients': array([-4.89019866e-05, -5.82658145e-05, -1.96381816e-01,  3.15358491e-04,\n",
       "        -5.87324478e-02]),\n",
       " 'Intercept': 59.298617267945936}"
      ]
     },
     "execution_count": 58,
     "metadata": {},
     "output_type": "execute_result"
    }
   ],
   "source": [
    "# Define the new target variable based on efficiency aspects\n",
    "# We use Recycling Rate as a proxy for Waste Management Efficiency\n",
    "target = \"Recycling_Rate(%)\"\n",
    "\n",
    "# Define the updated feature set based on AI-related waste management efficiency factors\n",
    "features = [\"Waste_Generated(Tons/Day)\", \"Population_Density(People/km²)\", \n",
    "            \"Municipal_Efficiency_Score(1-10)\", \"Cost_of_Waste_Management(₹/Ton)\", \n",
    "            \"Awareness_Campaigns_Count\"]\n",
    "\n",
    "# Dropping rows with missing values for clean data processing\n",
    "df_cleaned = df.dropna(subset=features + [target])\n",
    "\n",
    "# Splitting data into training and testing sets (80% train, 20% test)\n",
    "X = df_cleaned[features]\n",
    "y = df_cleaned[target]\n",
    "X_train, X_test, y_train, y_test = train_test_split(X, y, test_size=0.2, random_state=42)\n",
    "\n",
    "# Train a regression model\n",
    "model = LinearRegression()\n",
    "model.fit(X_train, y_train)\n",
    "\n",
    "# Predictions\n",
    "y_pred = model.predict(X_test)\n",
    "\n",
    "# Evaluating the model performance\n",
    "mae = mean_absolute_error(y_test, y_pred)\n",
    "mse = mean_squared_error(y_test, y_pred)\n",
    "r2 = r2_score(y_test, y_pred)\n",
    "\n",
    "# Output results\n",
    "regression_results = {\n",
    "    \"MAE\": mae,\n",
    "    \"MSE\": mse,\n",
    "    \"R2_Score\": r2,\n",
    "    \"Coefficients\": model.coef_,\n",
    "    \"Intercept\": model.intercept_\n",
    "}\n",
    "\n",
    "regression_results\n"
   ]
  }
 ],
 "metadata": {
  "kernelspec": {
   "display_name": "Python 3 (ipykernel)",
   "language": "python",
   "name": "python3"
  },
  "language_info": {
   "codemirror_mode": {
    "name": "ipython",
    "version": 3
   },
   "file_extension": ".py",
   "mimetype": "text/x-python",
   "name": "python",
   "nbconvert_exporter": "python",
   "pygments_lexer": "ipython3",
   "version": "3.12.4"
  }
 },
 "nbformat": 4,
 "nbformat_minor": 5
}
